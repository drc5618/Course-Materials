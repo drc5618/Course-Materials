{
  "nbformat": 4,
  "nbformat_minor": 0,
  "metadata": {
    "colab": {
      "name": "Lab 1.ipynb",
      "provenance": [],
      "collapsed_sections": [],
      "authorship_tag": "ABX9TyOjt9gv+p3Q1sf7XAx0pyoe",
      "include_colab_link": true
    },
    "kernelspec": {
      "name": "python3",
      "display_name": "Python 3"
    }
  },
  "cells": [
    {
      "cell_type": "markdown",
      "metadata": {
        "id": "view-in-github",
        "colab_type": "text"
      },
      "source": [
        "<a href=\"https://colab.research.google.com/github/drc5618/Course-Materials/blob/master/Lab_1.ipynb\" target=\"_parent\"><img src=\"https://colab.research.google.com/assets/colab-badge.svg\" alt=\"Open In Colab\"/></a>"
      ]
    },
    {
      "cell_type": "markdown",
      "metadata": {
        "id": "So4a3TwBc_5U",
        "colab_type": "text"
      },
      "source": [
        "###Do you like using Jupyter Notebooks?"
      ]
    },
    {
      "cell_type": "markdown",
      "metadata": {
        "id": "piSyXpE_KlCD",
        "colab_type": "text"
      },
      "source": [
        "I'm not really sure yet. It seems to be very confusing so far but I think I will get used to it since I've never used anything like this before."
      ]
    },
    {
      "cell_type": "markdown",
      "metadata": {
        "id": "ryKXIjK_dh2D",
        "colab_type": "text"
      },
      "source": [
        "###What do you want to learn more about in Jupyter Notebooks"
      ]
    },
    {
      "cell_type": "markdown",
      "metadata": {
        "id": "hvlObu4DKxD-",
        "colab_type": "text"
      },
      "source": [
        "I want to learn how we will be using this for our class. I know it's going to involve data in someway but I am interested in which ways we will be using it!"
      ]
    },
    {
      "cell_type": "markdown",
      "metadata": {
        "id": "IT62CcHDiRSC",
        "colab_type": "text"
      },
      "source": [
        "![sixers](https://images2.minutemediacdn.com/image/fetch/w_850,h_560,c_fill,g_auto,f_auto/https%3A%2F%2Fthesixersense.com%2Fwp-content%2Fuploads%2Fgetty-images%2F2017%2F07%2F1227928018-850x560.jpeg)"
      ]
    }
  ]
}